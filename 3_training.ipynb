{
 "cells": [
  {
   "cell_type": "code",
   "execution_count": null,
   "metadata": {},
   "outputs": [],
   "source": [
    "# Tensorboard\n",
    "\n",
    "# tf 실행\n",
    "# tensorboard --logdir=/raid/intelligence/jupyterhub/notebook/nvidia/jingwan/FasterRCNN/train_log\n",
    "\n",
    "# 로컬 포트를 사용하고 싶을 때\n",
    "# ssh -NfL localhost:8787:localhost:9999 nvidia@172.16.236.17 "
   ]
  },
  {
   "cell_type": "code",
   "execution_count": null,
   "metadata": {},
   "outputs": [],
   "source": [
    "!CUDA_VISIBLE_DEVICES='1' python ./src/train.py \\\n",
    "--logdir=train_log/default_config \\\n",
    "--config=configs/default_config.json \\\n",
    "--proc_name=faster_rcnn_ \\\n",
    "--export_model=train_log/default_config/export"
   ]
  }
 ],
 "metadata": {
  "kernelspec": {
   "display_name": "dl_env",
   "language": "python",
   "name": "dl_tutorials"
  },
  "language_info": {
   "codemirror_mode": {
    "name": "ipython",
    "version": 3
   },
   "file_extension": ".py",
   "mimetype": "text/x-python",
   "name": "python",
   "nbconvert_exporter": "python",
   "pygments_lexer": "ipython3",
   "version": "3.7.9"
  }
 },
 "nbformat": 4,
 "nbformat_minor": 4
}
