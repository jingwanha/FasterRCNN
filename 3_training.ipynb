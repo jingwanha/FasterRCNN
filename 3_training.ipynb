{
 "cells": [
  {
   "cell_type": "code",
   "execution_count": null,
   "metadata": {},
   "outputs": [],
   "source": [
    "# Tensorboard\n",
    "\n",
    "# tf 실행\n",
    "# tensorboard --logdir=/raid/intelligence/jupyterhub/notebook/nvidia/jingwan/FasterRCNN/train_log\n",
    "\n",
    "# 로커 포트를 사용하고 싶을 때\n",
    "# ssh -NfL localhost:8787:localhost:9999 nvidia@172.16.236.17 "
   ]
  },
  {
   "cell_type": "code",
   "execution_count": null,
   "metadata": {},
   "outputs": [],
   "source": [
    "!CUDA_VISIBLE_DEVICES='1' python ./src/train.py \\\n",
    "--logdir=train_log/1215_BB_AP_AT1_config \\\n",
    "--config=configs/1215_BB_AP_AT1_config.json \\\n",
    "--proc_name=faster_rcnn_ \\\n",
    "--export_model=train_log/1215_BB_AP_AT1_config/export"
   ]
  }
 ],
 "metadata": {
  "kernelspec": {
   "display_name": "Python [conda env:jingwan_tf1]",
   "language": "python",
   "name": "conda-env-jingwan_tf1-py"
  },
  "language_info": {
   "codemirror_mode": {
    "name": "ipython",
    "version": 3
   },
   "file_extension": ".py",
   "mimetype": "text/x-python",
   "name": "python",
   "nbconvert_exporter": "python",
   "pygments_lexer": "ipython3",
   "version": "3.7.8"
  }
 },
 "nbformat": 4,
 "nbformat_minor": 4
}
