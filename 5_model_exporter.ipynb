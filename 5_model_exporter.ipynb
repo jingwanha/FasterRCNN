{
 "cells": [
  {
   "cell_type": "markdown",
   "metadata": {},
   "source": [
    "# MODEL EXPORT\n",
    "- Compact Model : write final graph (in pb format) 재학습 불가\n",
    "- Servabble Model : Converts a checkpoint and graph to a servable for TensorFlow Serving. (Tensorpack 의존성 없이 Serving에서 사용가능)"
   ]
  },
  {
   "cell_type": "code",
   "execution_count": null,
   "metadata": {},
   "outputs": [],
   "source": [
    "# Export \n",
    "# Package Load AND PATH Setting\n",
    "\n",
    "import argparse\n",
    "import logging\n",
    "import os\n",
    "import sys\n",
    "os.environ[\"CUDA_VISIBLE_DEVICES\"]=\"99\"\n",
    "sys.path.append(os.path.abspath('./src'))\n",
    "\n",
    "from tensorpack import *\n",
    "from tensorpack.predict import PredictConfig\n",
    "from tensorpack.tfutils import SmartInit\n",
    "from tensorpack.tfutils.export import ModelExporter\n",
    "\n",
    "from config import config as cfg\n",
    "from config import finalize_configs\n",
    "from dataset import register_custom_data\n",
    "from modeling.generalized_rcnn import ResNetC4Model, ResNetFPNModel\n",
    "\n",
    "from tensorpack.utils import logger\n",
    "\n",
    "def check_and_make_dir(path):\n",
    "    dir_path = os.path.dirname(path)\n",
    "    if not os.path.exists(dir_path):\n",
    "        logger.info(\"Create new dir '{}'\".format(dir_path))\n",
    "        os.makedirs(dir_path)\n",
    "\n",
    "\n",
    "EXPORT_CONFIG_PATH = './configs/default_config.json'\n",
    "LOAD_MODEL_PATH = './train_log/default_config_model/export/max-eval-mAP'\n",
    "\n",
    "SERVABLE_VERSION = 1\n",
    "EXPORT_SERVABLE_PATH = './train_log/default_config_model/servable_model/'+ str(SERVABLE_VERSION)\n",
    "EXPORT_COMPACT_MODEL = './train_log/default_config_model/compact_model/compact_model.pb'"
   ]
  },
  {
   "cell_type": "code",
   "execution_count": null,
   "metadata": {},
   "outputs": [],
   "source": [
    "# update config\n",
    "\n",
    "cfg.update_from_json(EXPORT_CONFIG_PATH)\n",
    "cfg.DATA.CLASS_NAMES = ['BG'] + cfg.DATA.CLASS_NAMES\n",
    "    \n",
    "register_custom_data()\n",
    "finalize_configs(is_training=False)\n",
    "\n",
    "# initialize model\n",
    "model = ResNetFPNModel() if cfg.MODE_FPN else ResNetC4Model()\n",
    "\n",
    "\n",
    "logger.info(\"Loading checkpoint from {}\".format(LOAD_MODEL_PATH))\n",
    "predcfg = PredictConfig(model=model,\n",
    "                        session_init=SmartInit(LOAD_MODEL_PATH),\n",
    "                        input_names=model.get_inference_tensor_names()[0],\n",
    "                        output_names=model.get_inference_tensor_names()[1])\n",
    "\n",
    "# compact 모델 export\n",
    "check_and_make_dir(EXPORT_COMPACT_MODEL)\n",
    "ModelExporter(predcfg).export_compact(EXPORT_COMPACT_MODEL,optimize=True)\n",
    "    \n",
    "# servablbe 모델 export\n",
    "check_and_make_dir(EXPORT_SERVABLE_PATH)\n",
    "ModelExporter(predcfg).export_serving(EXPORT_SERVABLE_PATH)"
   ]
  }
 ],
 "metadata": {
  "kernelspec": {
   "display_name": "Python [conda env:jingwan_tf1]",
   "language": "python",
   "name": "conda-env-jingwan_tf1-py"
  },
  "language_info": {
   "codemirror_mode": {
    "name": "ipython",
    "version": 3
   },
   "file_extension": ".py",
   "mimetype": "text/x-python",
   "name": "python",
   "nbconvert_exporter": "python",
   "pygments_lexer": "ipython3",
   "version": "3.7.8"
  }
 },
 "nbformat": 4,
 "nbformat_minor": 4
}
