{
 "cells": [
  {
   "cell_type": "markdown",
   "metadata": {},
   "source": [
    "# DATA BUILDER\n",
    "- Faster R-CNN 모델 학습을 위해 데이터 셋을 COCO type으로 변경하는 과정 <br><br>\n",
    "\n",
    "- 결과 디렉토리 구조\n",
    "   - custom_data /\n",
    "       - annotation / train.json\n",
    "       - annotation / eval.json\n",
    "       - train / *.jpg (학습에 사용되는 이미지) (필수)\n",
    "       - eval / *.jpg (모델 평가에 사용되는 이미지) (필수)\n",
    "       - annotation.csv (필수)<br>\n",
    "           annotation columns = ('img_path','x1','y1','x2','y2','label','category_id','is_train')\n",
    "           "
   ]
  },
  {
   "cell_type": "markdown",
   "metadata": {},
   "source": [
    "## 1) Insatllation"
   ]
  },
  {
   "cell_type": "code",
   "execution_count": null,
   "metadata": {},
   "outputs": [],
   "source": [
    "# !pip --trusted-host pypi.org --trusted-host files.pythonhosted.org install pycocotools\n",
    "# !pip --trusted-host pypi.org --trusted-host files.pythonhosted.org install pandas\n",
    "# !pip --trusted-host pypi.org --trusted-host files.pythonhosted.org install scipy\n",
    "# !pip --trusted-host pypi.org --trusted-host files.pythonhosted.org install setproctitle"
   ]
  },
  {
   "cell_type": "markdown",
   "metadata": {},
   "source": [
    "## 2) Load Packages"
   ]
  },
  {
   "cell_type": "code",
   "execution_count": null,
   "metadata": {},
   "outputs": [],
   "source": [
    "import tensorflow as tf\n",
    "import pandas as pd\n",
    "import numpy as np\n",
    "\n",
    "import shutil\n",
    "import cv2\n",
    "from tqdm import tqdm\n",
    "\n",
    "import json\n",
    "import os \n",
    "os.environ[\"CUDA_VISIBLE_DEVICES\"]=\"99\""
   ]
  },
  {
   "cell_type": "markdown",
   "metadata": {},
   "source": [
    "## 3) COCO 데이터 셋 생성"
   ]
  },
  {
   "cell_type": "code",
   "execution_count": null,
   "metadata": {},
   "outputs": [],
   "source": [
    "# 별도로 저장되어 있는 dataset(image files)을 읽어와 'custom_data' path에 저장\n",
    "annotation = pd.read_csv('./custom_data/annotation.csv')\n",
    "\n",
    "# DATA TO COCO TYPE\n",
    "SAVE_IMAGE_PATH = './custom_data/' #이미지가 저장된 경로\n",
    "SAVE_ANNOTATION_PATH='./custom_data/annotations/' # coco json이 저장될 경로"
   ]
  },
  {
   "cell_type": "code",
   "execution_count": null,
   "metadata": {},
   "outputs": [],
   "source": [
    "def data_to_coco(anno_df, destfile):\n",
    "\n",
    "    anno_df[\"label\"] = anno_df[\"label\"].astype(str)\n",
    "    \n",
    "    \n",
    "    label_names = list(anno_df['label'].unique())\n",
    "    label_names = [str(x) for x in label_names]\n",
    "    \n",
    "    label_categories = {}\n",
    "    \n",
    "    # label 별 ID 부여\n",
    "    for label in label_names:\n",
    "        label_categories[label] = int(anno_df[anno_df[\"label\"]==label]['category_id'].unique()[0])\n",
    "    \n",
    "    data_dict = {}\n",
    "    data_dict['images'] = []\n",
    "    data_dict['categories'] = []\n",
    "    data_dict['annotations'] = []\n",
    "    \n",
    "    for idx, name in enumerate(label_names):\n",
    "        single_category = {'id': label_categories[name], 'name': name, 'supercategory': name}\n",
    "        data_dict['categories'].append(single_category)\n",
    "\n",
    "    inst_count = 1\n",
    "    image_id = 1\n",
    "    \n",
    "    with open(destfile, 'w') as f_out:\n",
    "        images = list(anno_df['img_path'].unique())\n",
    "        \n",
    "        for image_path in tqdm(images): \n",
    "            img_name = image_path.split('/')[-1]\n",
    "            \n",
    "            # image가 gray scale이기 떄문\n",
    "            img = cv2.imread(image_path)\n",
    "            height, width, _  = img.shape\n",
    "\n",
    "            single_image = {}\n",
    "            single_image['file_name'] = img_name\n",
    "            single_image['id'] = image_id\n",
    "            single_image['width'] = width\n",
    "            single_image['height'] = height\n",
    "            data_dict['images'].append(single_image)\n",
    "\n",
    "            # annotations\n",
    "            objects = anno_df[anno_df['img_path']==image_path]\n",
    "        \n",
    "            for x1, y1, x2, y2,label in objects[[\"x1\", \"y1\", \"x2\", \"y2\",\"label\"]].values:\n",
    "                single_obj = {}\n",
    "\n",
    "                single_obj['category_id'] = label_categories[label]\n",
    "\n",
    "                width, height = x2-x1, y2-y1\n",
    "                \n",
    "                single_obj['bbox'] = x1, y1, width, height\n",
    "                single_obj['area'] = width*height\n",
    "                \n",
    "                single_obj['image_id'] = image_id\n",
    "                \n",
    "                single_obj['iscrowd'] = 0\n",
    "                single_obj['ignore'] = 0\n",
    "                \n",
    "                data_dict['annotations'].append(single_obj)\n",
    "                single_obj['id'] = inst_count\n",
    "                inst_count = inst_count + 1\n",
    "            image_id = image_id + 1\n",
    "            \n",
    "        json.dump(data_dict, f_out)"
   ]
  },
  {
   "cell_type": "code",
   "execution_count": null,
   "metadata": {},
   "outputs": [],
   "source": [
    "# json 파일 생성\n",
    "\n",
    "train_anno = annotation[annotation['is_train']==True]\n",
    "val_anno = annotation[annotation['is_train']==False]\n",
    "\n",
    "print (\"BUILD TRAINING SET\")\n",
    "data_to_coco(train_anno, SAVE_ANNOTATION_PATH+'train.json')\n",
    "\n",
    "print (\"BUILD EVALUATION SET\")\n",
    "data_to_coco(val_anno, SAVE_ANNOTATION_PATH+'eval.json')"
   ]
  },
  {
   "cell_type": "code",
   "execution_count": null,
   "metadata": {},
   "outputs": [],
   "source": []
  }
 ],
 "metadata": {
  "kernelspec": {
   "display_name": "dl_env",
   "language": "python",
   "name": "dl_tutorials"
  },
  "language_info": {
   "codemirror_mode": {
    "name": "ipython",
    "version": 3
   },
   "file_extension": ".py",
   "mimetype": "text/x-python",
   "name": "python",
   "nbconvert_exporter": "python",
   "pygments_lexer": "ipython3",
   "version": "3.7.9"
  }
 },
 "nbformat": 4,
 "nbformat_minor": 4
}
